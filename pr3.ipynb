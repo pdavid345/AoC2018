{
 "cells": [
  {
   "cell_type": "code",
   "execution_count": 104,
   "metadata": {},
   "outputs": [],
   "source": [
    "import regex as re\n",
    "with open('input/3') as f:\n",
    "   dat = [[int(i) for i in j] for j in re.findall('#(\\d+) @ (\\d+),(\\d+): (\\d+)x(\\d+)',f.read())]\n",
    "   "
   ]
  },
  {
   "cell_type": "code",
   "execution_count": 105,
   "metadata": {},
   "outputs": [
    {
     "name": "stdout",
     "output_type": "stream",
     "text": [
      "999 999\n"
     ]
    }
   ],
   "source": [
    "import numpy as np\n",
    "\n",
    "\n",
    "\n",
    "xlim = max([i[1]+i[3]-1 for i in dat])+2\n",
    "ylim = max([i[2]+i[4]-1 for i in dat])+2\n",
    "\n",
    "print(xlim, ylim)\n",
    "# print(dat)\n"
   ]
  },
  {
   "cell_type": "code",
   "execution_count": 106,
   "metadata": {},
   "outputs": [
    {
     "name": "stdout",
     "output_type": "stream",
     "text": [
      "Problem 1 Solution: 101781\n"
     ]
    }
   ],
   "source": [
    "A = np.zeros((xlim,ylim), dtype=int)\n",
    "# print(A)\n",
    "\n",
    "for l in dat:\n",
    "    # print(l)\n",
    "    A[l[1]:l[1]+l[3],l[2]:l[2]+l[4]] +=1\n",
    "    # print(A)\n",
    "\n",
    "print(f'Problem 1 Solution: {sum(sum(A>1))}')"
   ]
  },
  {
   "cell_type": "code",
   "execution_count": 107,
   "metadata": {},
   "outputs": [
    {
     "name": "stdout",
     "output_type": "stream",
     "text": [
      "Problem 2 solution: 909\n"
     ]
    }
   ],
   "source": [
    "for l in dat:\n",
    "    if(np.all(A[l[1]:l[1]+l[3],l[2]:l[2]+l[4]]==1)):\n",
    "        print(f'Problem 2 solution: {l[0]}')\n",
    "        break"
   ]
  }
 ],
 "metadata": {
  "kernelspec": {
   "display_name": "base",
   "language": "python",
   "name": "python3"
  },
  "language_info": {
   "codemirror_mode": {
    "name": "ipython",
    "version": 3
   },
   "file_extension": ".py",
   "mimetype": "text/x-python",
   "name": "python",
   "nbconvert_exporter": "python",
   "pygments_lexer": "ipython3",
   "version": "3.9.13"
  },
  "orig_nbformat": 4,
  "vscode": {
   "interpreter": {
    "hash": "7672c032c71307a9d2e2de933bc31a203109ac0f3b59d326ba27acf02560982c"
   }
  }
 },
 "nbformat": 4,
 "nbformat_minor": 2
}
